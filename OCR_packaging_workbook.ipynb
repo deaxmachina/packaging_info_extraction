{
 "cells": [
  {
   "cell_type": "markdown",
   "metadata": {},
   "source": [
    "# OCR on packaging using Google Vison API - can we extract ingredients or nutritional information? \n",
    "\n",
    "Initial exploratory work using the Google Vision API - text detection and document detection. \n",
    "- Attempted to use the text and document detection functionality out of the box but it proved to be imperfect. \n",
    "- Experimented with whether paragraph or block detection works better using the document detection API. \n",
    "- Tests on whole package images and on photos of just the ingredients for the Open Food Facts db. \n",
    "- Simple flow (WIP) to extract the list of ingredients. \n",
    "- Various issues encountered and possible solutions documented in the notes file. \n"
   ]
  },
  {
   "cell_type": "code",
   "execution_count": 1,
   "metadata": {},
   "outputs": [],
   "source": [
    "import io\n",
    "import os\n",
    "import cv2 as cv\n",
    "import numpy as np\n",
    "\n",
    "# Imports the Google Cloud client library\n",
    "from google.cloud import vision\n",
    "from google.cloud.vision import types\n",
    "\n",
    "from enum import Enum\n",
    "from PIL import Image, ImageDraw\n",
    "import matplotlib.pyplot as plt \n",
    "%matplotlib inline\n",
    "\n",
    "# Instantiates a client\n",
    "client = vision.ImageAnnotatorClient()"
   ]
  },
  {
   "cell_type": "markdown",
   "metadata": {},
   "source": [
    "Use some test images: Those in the 'test_images/whole' folder contain photos of the whole side of the packaging and those in 'test_images/partial' contain just the part we're interested, i.e. just ingredients or just nutrition etc. "
   ]
  },
  {
   "cell_type": "code",
   "execution_count": 2,
   "metadata": {},
   "outputs": [],
   "source": [
    "tests_whole = {}\n",
    "for img in os.listdir('test_images/whole'):\n",
    "    tests_whole[img.split('.')[0]] = os.path.join('test_images/whole', img)\n",
    "\n",
    "tests_partial = {}\n",
    "for img in os.listdir('test_images/partial'):\n",
    "    tests_partial[img.split('.')[0]] = os.path.join('test_images/partial', img)"
   ]
  },
  {
   "cell_type": "markdown",
   "metadata": {},
   "source": [
    "## Attempt 1: Google text detection API \n",
    "- Using this example: https://cloud.google.com/vision/docs/detecting-text#vision-text-detection-python\n",
    "- Not very useful in this case as it simply spits out all the text. In the case of multiple columns or text boxes etc. it doesn't group the text correctly but reads it horizontally. Note that the same propblem happens with the document detection API, too (see below). "
   ]
  },
  {
   "cell_type": "code",
   "execution_count": 3,
   "metadata": {},
   "outputs": [],
   "source": [
    "def detect_text(path):\n",
    "    \"\"\"Detects text in the file.\"\"\"\n",
    "    from google.cloud import vision\n",
    "    client = vision.ImageAnnotatorClient()\n",
    "\n",
    "    with io.open(path, 'rb') as image_file:\n",
    "        content = image_file.read()\n",
    "\n",
    "    image = vision.types.Image(content=content)\n",
    "\n",
    "    response = client.text_detection(image=image)\n",
    "    texts = response.text_annotations\n",
    "    print('Texts:')\n",
    "\n",
    "    for text in texts:\n",
    "        print('\\n\"{}\"'.format(text.description))\n",
    "\n",
    "        vertices = (['({},{})'.format(vertex.x, vertex.y)\n",
    "                    for vertex in text.bounding_poly.vertices])\n",
    "\n",
    "        print('bounds: {}'.format(','.join(vertices)))"
   ]
  },
  {
   "cell_type": "code",
   "execution_count": 5,
   "metadata": {},
   "outputs": [],
   "source": [
    "# test with examples to get a feel for the output - uncomment as the output is large\n",
    "#detect_text(tests_whole['test_2'])"
   ]
  },
  {
   "cell_type": "markdown",
   "metadata": {},
   "source": [
    "## Attempt 2: Google document detection API \n",
    "- Using (and modifying) this example: https://cloud.google.com/vision/docs/fulltext-annotations\n",
    "- This doesn't work very well when the layout is with multiple columns (see notes above). "
   ]
  },
  {
   "cell_type": "markdown",
   "metadata": {},
   "source": [
    "### helper fuctions for visualising bounding boxes"
   ]
  },
  {
   "cell_type": "code",
   "execution_count": 6,
   "metadata": {},
   "outputs": [],
   "source": [
    "class FeatureType(Enum):\n",
    "    PAGE = 1\n",
    "    BLOCK = 2\n",
    "    PARA = 3\n",
    "    WORD = 4\n",
    "    SYMBOL = 5"
   ]
  },
  {
   "cell_type": "code",
   "execution_count": 7,
   "metadata": {},
   "outputs": [],
   "source": [
    "def draw_boxes(image, bounds, color):\n",
    "    \"\"\"Draw a border around the image using the hints in the vector list.\"\"\"\n",
    "    draw = ImageDraw.Draw(image)\n",
    "\n",
    "    for bound in bounds:\n",
    "        draw.polygon([\n",
    "            bound.vertices[0].x, bound.vertices[0].y,\n",
    "            bound.vertices[1].x, bound.vertices[1].y,\n",
    "            bound.vertices[2].x, bound.vertices[2].y,\n",
    "            bound.vertices[3].x, bound.vertices[3].y], None, color)\n",
    "    return image"
   ]
  },
  {
   "cell_type": "code",
   "execution_count": 8,
   "metadata": {},
   "outputs": [],
   "source": [
    "def render_doc_text(filein, fileout, block=True, para=False, word=False):\n",
    "    image = Image.open(filein)\n",
    "    if block: \n",
    "        bounds = get_document_bounds(filein, FeatureType.BLOCK)\n",
    "        draw_boxes(image, bounds, 'blue')\n",
    "    if para: \n",
    "        bounds = get_document_bounds(filein, FeatureType.PARA)\n",
    "        draw_boxes(image, bounds, 'red')\n",
    "    if word: \n",
    "        bounds = get_document_bounds(filein, FeatureType.WORD)\n",
    "        draw_boxes(image, bounds, 'yellow')\n",
    "\n",
    "    if fileout is not 0:\n",
    "        image.save(fileout)\n",
    "    else:\n",
    "        image.show()"
   ]
  },
  {
   "cell_type": "markdown",
   "metadata": {},
   "source": [
    "### detect document i.e. all the parts, and draw them "
   ]
  },
  {
   "cell_type": "code",
   "execution_count": 9,
   "metadata": {},
   "outputs": [],
   "source": [
    "def get_document_bounds(image_file, feature):\n",
    "    \"\"\"Returns document bounds given an image.\"\"\"\n",
    "    client = vision.ImageAnnotatorClient()\n",
    "\n",
    "    bounds = []\n",
    "\n",
    "    with io.open(image_file, 'rb') as image_file:\n",
    "        content = image_file.read()\n",
    "\n",
    "    image = types.Image(content=content)\n",
    "\n",
    "    response = client.document_text_detection(image=image)\n",
    "    document = response.full_text_annotation\n",
    "\n",
    "    # Collect specified feature bounds by enumerating all document features\n",
    "    for page in document.pages:\n",
    "        for block in page.blocks:\n",
    "            for paragraph in block.paragraphs:\n",
    "                for word in paragraph.words:\n",
    "                    for symbol in word.symbols:\n",
    "                        if (feature == FeatureType.SYMBOL):\n",
    "                            bounds.append(symbol.bounding_box)\n",
    "\n",
    "                    if (feature == FeatureType.WORD):\n",
    "                        bounds.append(word.bounding_box)\n",
    "\n",
    "                if (feature == FeatureType.PARA):\n",
    "                    bounds.append(paragraph.bounding_box)\n",
    "\n",
    "            if (feature == FeatureType.BLOCK):\n",
    "                bounds.append(block.bounding_box)\n",
    "\n",
    "        if (feature == FeatureType.PAGE):\n",
    "            bounds.append(block.bounding_box)\n",
    "\n",
    "    # The list `bounds` contains the coordinates of the bounding boxes.\n",
    "    return bounds"
   ]
  },
  {
   "cell_type": "code",
   "execution_count": 10,
   "metadata": {},
   "outputs": [],
   "source": [
    "# run some tests to get a feel of the bounding boxes; note that these pop up in a new window \n",
    "render_doc_text(tests_whole['test_2'], 0)"
   ]
  },
  {
   "cell_type": "markdown",
   "metadata": {},
   "source": [
    "## Attempt 3: Experiment with paragraph and block detection \n",
    "- Using out of the box paragraph and block detection on the whole side of the packaging to determine how well that works/which one works better; see examples and discussion. \n",
    "- Made a start at combining bboxes of the words to find better clusters of texts than the out of box functionality. \n",
    "- This is WIP"
   ]
  },
  {
   "cell_type": "code",
   "execution_count": 11,
   "metadata": {},
   "outputs": [],
   "source": [
    "def detect_paragraph(path):\n",
    "    \"\"\"\n",
    "    Detects the text in the paragraphs as determined \n",
    "    by the API raw\n",
    "    \"\"\"\n",
    "    with io.open(path, 'rb') as image_file:\n",
    "        content = image_file.read()\n",
    "    image = vision.types.Image(content=content)\n",
    "    response = client.document_text_detection(image=image)\n",
    "    paragraph_texts = []\n",
    "    for page in response.full_text_annotation.pages:\n",
    "        for block in page.blocks:\n",
    "            for paragraph in block.paragraphs:\n",
    "                #print('paragraph bounding box: ', paragraph.bounding_box)\n",
    "                #print('Paragraph confidence: {}'.format(paragraph.confidence))\n",
    "                paragraph_words = []\n",
    "                for word in paragraph.words:\n",
    "                    word_text = ''.join([symbol.text for symbol in word.symbols])\n",
    "                    paragraph_words.append(word_text)\n",
    "                paragraph_text = ' '.join(paragraph_words)\n",
    "                paragraph_texts.append(paragraph_text)\n",
    "        return paragraph_texts"
   ]
  },
  {
   "cell_type": "code",
   "execution_count": 12,
   "metadata": {},
   "outputs": [],
   "source": [
    "def detect_block(path):\n",
    "    \"\"\"\n",
    "    Detects the text in the block as determined \n",
    "    by the API raw\n",
    "    \"\"\"\n",
    "    with io.open(path, 'rb') as image_file:\n",
    "        content = image_file.read()\n",
    "    image = vision.types.Image(content=content)\n",
    "    response = client.document_text_detection(image=image)\n",
    "    block_texts = []\n",
    "    for page in response.full_text_annotation.pages:\n",
    "        for block in page.blocks:\n",
    "            block_words = []\n",
    "            for paragraph in block.paragraphs:\n",
    "                #print('paragraph bounding box: ', paragraph.bounding_box)\n",
    "                #print('Paragraph confidence: {}'.format(paragraph.confidence))\n",
    "                paragraph_words = []\n",
    "                for word in paragraph.words:\n",
    "                    word_text = ''.join([symbol.text for symbol in word.symbols])\n",
    "                    paragraph_words.append(word_text)\n",
    "                paragraph_text = ' '.join(paragraph_words)\n",
    "                block_words.append(paragraph_text)\n",
    "            block_text = ' '.join(block_words)\n",
    "            block_texts.append(block_text)\n",
    "    return block_texts"
   ]
  },
  {
   "cell_type": "code",
   "execution_count": 13,
   "metadata": {},
   "outputs": [],
   "source": [
    "# play with some examples to see if the block or the paragraph functionality of the API is generally better\n",
    "paragraph_texts = detect_paragraph(tests_whole['test_40'])\n",
    "block_texts = detect_block(tests_whole['test_40'])"
   ]
  },
  {
   "cell_type": "code",
   "execution_count": 14,
   "metadata": {},
   "outputs": [
    {
     "data": {
      "text/plain": [
       "['HELLMANNS LIGHT REDUCED CALORIE MAYONNAISE TRY OUR RANGE OF SAUCES FOR MORE GREAT FLAVOUR :',\n",
       " \"HELMANN ' S\",\n",
       " 'SMOKEY BBQ',\n",
       " 'SAUCE Ingredients : water , rapeseed oil ( 25 % ) , spirit vine',\n",
       " 'anne EGG yolk ( 1 . 5 % ) , cream powder ( MILK ) , citrus fibre , thickeners ( a',\n",
       " 'CHUNKY KETCHUP',\n",
       " 'BURGER SWEETENED WITH HONEY',\n",
       " 'SAUCE seed oil ( 25 % ) , spirit vinegar , modified corn starch , sugar , salt , free',\n",
       " '( MILK ) , citrus fibre , thickeners ( guar gum , xanthan gum ) , emon juice concentrate , antioxidant ( calcium disodium EDTA ) , natural MUSTARD favouring , paprika extract , sunflower oil . A good source of Omega 3',\n",
       " \"stainably sourced oils . For more info , Unilever UK , Hellmann ' s . Committed to sustainably sourced oils For more\",\n",
       " 'Freepost ADM 3940 London visit www . hellmanns . co . uk or www . hellmanns . ie .',\n",
       " \"SW1A 1YR . 60 % less calories than Hellmann ' s Real Mayonnaise\",\n",
       " 'Unilever Ireland , 20 Riverwalk , . . . . . . NUTRITION INFORMATION . . . . . . . . . . . . . . . . livnical Values ) Per 100g Per portion * * % * per portion * * Citywest , Dublin 24 .',\n",
       " '2 % Your comments count ! Energy 1108kJ / 264kcal 166kJ / 40kcal 269',\n",
       " '6 % FREEPHONE ( UK ) 0800 435562 of which saturates 2 . 6g',\n",
       " '0 . 49',\n",
       " 'OR CALLSAVE ( IE ) 1850 540550 Carbohydrates 6 . 19 0 . 99 < 1 % Mon - Fri 8am - 6pm of which sugars',\n",
       " '< 1 % < 0 . 5g 2 . 39',\n",
       " \"HELLMANN ' S , Unilever and the U < 0 . 50 < 0 . 59 < 1 % 1 . 79 0 . 265 4 %\",\n",
       " 'device are registered trademarks . Omega 3',\n",
       " '2 . 39 0 . 35g * h of Reference intake of an average adult ( 8400kJ / 2000kcal ) * * 1 portion = 15g ( pack contains approx 28 portions )',\n",
       " '3 . 99',\n",
       " '20 %',\n",
       " 'Protein',\n",
       " 'CARIAN',\n",
       " 'VEGETA',\n",
       " 'PEAN VE',\n",
       " 'EUROPA',\n",
       " 'UNION',\n",
       " 'CABEL',\n",
       " 'From plant sources 40 CALORIES PER TABLESPOON .',\n",
       " 'Unilever lo open : Unscrew cap , remove seal , replace cap and flip open lid . REFRIGERATE AFTER OPENING , USE WITHIN 3 MONTHS . DO NUTA',\n",
       " 'VEGETARIAN',\n",
       " '67315014',\n",
       " '2ge ( 430ml )',\n",
       " '81722700479451 \" > FEB 20 HO 3 : 56 L9035C J099']"
      ]
     },
     "execution_count": 14,
     "metadata": {},
     "output_type": "execute_result"
    }
   ],
   "source": [
    "paragraph_texts"
   ]
  },
  {
   "cell_type": "code",
   "execution_count": 15,
   "metadata": {},
   "outputs": [
    {
     "data": {
      "text/plain": [
       "['HELLMANNS LIGHT REDUCED CALORIE MAYONNAISE TRY OUR RANGE OF SAUCES FOR MORE GREAT FLAVOUR :',\n",
       " \"HELMANN ' S\",\n",
       " 'SMOKEY BBQ',\n",
       " 'SAUCE Ingredients : water , rapeseed oil ( 25 % ) , spirit vine',\n",
       " 'anne EGG yolk ( 1 . 5 % ) , cream powder ( MILK ) , citrus fibre , thickeners ( a',\n",
       " \"CHUNKY KETCHUP BURGER SWEETENED WITH HONEY SAUCE seed oil ( 25 % ) , spirit vinegar , modified corn starch , sugar , salt , free ( MILK ) , citrus fibre , thickeners ( guar gum , xanthan gum ) , emon juice concentrate , antioxidant ( calcium disodium EDTA ) , natural MUSTARD favouring , paprika extract , sunflower oil . A good source of Omega 3 stainably sourced oils . For more info , Unilever UK , Hellmann ' s . Committed to sustainably sourced oils For more Freepost ADM 3940 London visit www . hellmanns . co . uk or www . hellmanns . ie . SW1A 1YR . 60 % less calories than Hellmann ' s Real Mayonnaise Unilever Ireland , 20 Riverwalk , . . . . . . NUTRITION INFORMATION . . . . . . . . . . . . . . . . livnical Values ) Per 100g Per portion * * % * per portion * * Citywest , Dublin 24 . 2 % Your comments count ! Energy 1108kJ / 264kcal 166kJ / 40kcal 269 6 % FREEPHONE ( UK ) 0800 435562 of which saturates 2 . 6g 0 . 49 OR CALLSAVE ( IE ) 1850 540550 Carbohydrates 6 . 19 0 . 99 < 1 % Mon - Fri 8am - 6pm of which sugars < 1 % < 0 . 5g 2 . 39 HELLMANN ' S , Unilever and the U < 0 . 50 < 0 . 59 < 1 % 1 . 79 0 . 265 4 % device are registered trademarks . Omega 3 2 . 39 0 . 35g * h of Reference intake of an average adult ( 8400kJ / 2000kcal ) * * 1 portion = 15g ( pack contains approx 28 portions )\",\n",
       " '3 . 99',\n",
       " '20 %',\n",
       " 'Protein',\n",
       " 'CARIAN',\n",
       " 'VEGETA',\n",
       " 'PEAN VE',\n",
       " 'EUROPA',\n",
       " 'UNION',\n",
       " 'CABEL',\n",
       " 'From plant sources 40 CALORIES PER TABLESPOON . Unilever lo open : Unscrew cap , remove seal , replace cap and flip open lid . REFRIGERATE AFTER OPENING , USE WITHIN 3 MONTHS . DO NUTA',\n",
       " 'VEGETARIAN',\n",
       " '67315014',\n",
       " '2ge ( 430ml )',\n",
       " '81722700479451 \" > FEB 20 HO 3 : 56 L9035C J099']"
      ]
     },
     "execution_count": 15,
     "metadata": {},
     "output_type": "execute_result"
    }
   ],
   "source": [
    "block_texts"
   ]
  },
  {
   "cell_type": "markdown",
   "metadata": {},
   "source": [
    "Given the results, we notice that neither the paragraph nor the block option give very good results as it is. We start exploring the option of manually combining text based on the bounding boxes of the individual words. Some first attempts at exploring this route below. "
   ]
  },
  {
   "cell_type": "code",
   "execution_count": 16,
   "metadata": {},
   "outputs": [],
   "source": [
    "def get_word_bounds(image_file, feature=FeatureType.WORD):\n",
    "    \"\"\"\n",
    "    Returns the bounding boxes of words together with the words \n",
    "    \"\"\"\n",
    "    client = vision.ImageAnnotatorClient()\n",
    "\n",
    "    bounds = []\n",
    "\n",
    "    with io.open(image_file, 'rb') as image_file:\n",
    "        content = image_file.read()\n",
    "\n",
    "    image = types.Image(content=content)\n",
    "\n",
    "    response = client.document_text_detection(image=image)\n",
    "    document = response.full_text_annotation\n",
    "    \n",
    "    words = []\n",
    "\n",
    "    # Collect specified feature bounds by enumerating all document features\n",
    "    for page in document.pages:\n",
    "        for block in page.blocks:\n",
    "            for paragraph in block.paragraphs:\n",
    "                for word in paragraph.words:\n",
    "                    word_text = ''.join([symbol.text for symbol in word.symbols])\n",
    "                    words.append(word_text)\n",
    "                    for symbol in word.symbols:\n",
    "                        if (feature == FeatureType.SYMBOL):\n",
    "                            bounds.append(symbol.bounding_box)\n",
    "\n",
    "                    if (feature == FeatureType.WORD):\n",
    "                        bounds.append(word.bounding_box)\n",
    "\n",
    "    # The list `bounds` contains the coordinates of the bounding boxes.\n",
    "    return bounds, words"
   ]
  },
  {
   "cell_type": "markdown",
   "metadata": {},
   "source": [
    "### bbox mergning \n",
    "WIP; currently can just merge any given set of boxes and this works quite well; However, note that the format of the bboxes returned by the API is different to what is expected by the handy CV functions below, so make sure to convert. The box merging works quite well. If we want to use this we will need to define criteria for which boxes should be merged, however. "
   ]
  },
  {
   "cell_type": "code",
   "execution_count": 17,
   "metadata": {},
   "outputs": [],
   "source": [
    "def get_xywh(image_file, example_number, feature=FeatureType.WORD): \n",
    "    bounds, _ = get_word_bounds(image_file, feature)\n",
    "    x = bounds[example_number].vertices[0].x \n",
    "    y = bounds[example_number].vertices[0].y\n",
    "    w = bounds[example_number].vertices[1].x - bounds[example_number].vertices[0].x\n",
    "    h = bounds[example_number].vertices[2].y - bounds[example_number].vertices[1].y\n",
    "    return [x, y, w, h]"
   ]
  },
  {
   "cell_type": "code",
   "execution_count": 18,
   "metadata": {},
   "outputs": [],
   "source": [
    "def get_conbined_box(contourRects):\n",
    "    \"\"\"\n",
    "    Takes an array of [x, y, w, h] points and returns \n",
    "    the coordinates of the 4 outer points of the \n",
    "    combined box; note that x and y are the lower \n",
    "    left corner\n",
    "    \"\"\"\n",
    "    arr = []\n",
    "    for x,y,w,h in contourRects:\n",
    "        arr.append((x,y))\n",
    "        arr.append((x+w,y+h))\n",
    "\n",
    "    box = cv.minAreaRect(np.asarray(arr))\n",
    "    pts = cv.boxPoints(box) # 4 outer corners\n",
    "    return pts"
   ]
  },
  {
   "cell_type": "markdown",
   "metadata": {},
   "source": [
    "### test - try on just the first 3 words \n",
    "Result: running the below it seems like this works - the words are combined together"
   ]
  },
  {
   "cell_type": "code",
   "execution_count": 19,
   "metadata": {},
   "outputs": [],
   "source": [
    "filein = tests_whole['test_1']\n",
    "bounds, words = get_word_bounds(filein, FeatureType.WORD)"
   ]
  },
  {
   "cell_type": "code",
   "execution_count": 20,
   "metadata": {},
   "outputs": [],
   "source": [
    "contourRects= np.array([get_xywh(filein, 0), get_xywh(filein, 1), get_xywh(filein, 2)])\n",
    "pts = get_conbined_box(contourRects)"
   ]
  },
  {
   "cell_type": "code",
   "execution_count": 21,
   "metadata": {},
   "outputs": [],
   "source": [
    "image = Image.open(filein)\n",
    "draw = ImageDraw.Draw(image)\n",
    "draw.polygon(pts, None, 'blue')\n",
    "image.show()"
   ]
  },
  {
   "cell_type": "markdown",
   "metadata": {},
   "source": [
    "## Tests \n",
    "Going over the test images to get a feel for what needs to be done to improve the text and bounding detection. It seems like the block detection works slightly better than paragraph, so we use this at the start. \n",
    "\n",
    "### observations on tests - whole\n",
    "- It's not perfect with numbers and this can be a problem with the nutrition info; sometimes it separates just a few numbers from the rest of the block or paragraph and sometimes it doesn't even detect them correctly e.g. the letter 'g' or '.' \n",
    "- Lots of issues with block collection even for the ingredients, e.g. look at test_2, where the ingredients are split even though they are on consecutive lines.\n",
    "- test_4 fails miserably: doesn't detect the nutrition box and messes up the pargraphs; having issues with properly detecting text where there are columns and boxes; unless these are on a colourful background I think. \n",
    "- test_3 and test_7 work quite well; when the box layout is clean and the there is no distortion on the photo. \n",
    "\n",
    "### observations on tests - partial \n",
    "- Using www.world.openfoodfacts.org \n",
    "- Small sample of just ingredients photos to see how well this is doing on clean pictures\n",
    "- Observations: Curved surfaces are very tricky as it splits into multiple weird boxes; there should be some algs for flattening out the images first; also worth playing with contrast or colours to see if this enhances box detection. "
   ]
  },
  {
   "cell_type": "code",
   "execution_count": 22,
   "metadata": {},
   "outputs": [],
   "source": [
    "def test_photos(photo_num, whole=True):\n",
    "    # whole is True for the whole images folder and False for the partial ones\n",
    "    if whole: \n",
    "        img_name = 'test_images/whole/test_' + str(photo_num) + '.jpg'\n",
    "        render_doc_text(img_name, 'test_images/whole/annotated_test_' + str(photo_num) + '.jpg', block=True)\n",
    "    else: \n",
    "        img_name = 'test_images/partial/test_' + str(photo_num) + '.jpg'\n",
    "        render_doc_text(img_name, 'test_images/partial/annotated_test_' + str(photo_num) + '.jpg', block=True)\n",
    "    paragraph_texts = detect_paragraph(img_name)\n",
    "    block_texts = detect_block(img_name)\n",
    "    return block_texts"
   ]
  },
  {
   "cell_type": "code",
   "execution_count": 23,
   "metadata": {},
   "outputs": [
    {
     "data": {
      "text/plain": [
       "['200mle',\n",
       " 'Beiersdorf Beiersdorf AG , D - 20245 Hamburg Art . 89050 www . NIVEA . com Ingredients : Aqua , Glycerin , Paraffinum Liquidum . Myristyl Alcohol , Butylene Glycol , Alcohol Denat . , Stearic Acid , Myristyl Myristate , Cera Microcristallina , Glyceryl Stearate , Hydrogenated Coco - Glycerides , Simmondsia Chinensis Seed Oil , Tocopheryl Acetate , Lanolin Alcohol ( Eucerito ) . Polyglyceryl - 2 Caprate , Dimethicone , Sodium Carbomer , Phenoxyethanol , Linalool , Citronellol , Alpha - Isomethyllonone , Butylphenyl Methylpropional , Limonene , Benzyl Alcohol , Benzyl Salicylate , Parfum Beiersdorf UK Ltd . , Birmingham 637 7YS . RSA : Beiersdort , 21 Lighthouse Road , Umhlanga , 4319 , RSA Consumer Careline : 0860 102091 . Beiersdorf Australia Ltd . , 4 Khartoum Road , North Ryde , NSW , 2113 . NZ : Freephone : 0800 696 483 . Made in Spain',\n",
       " '12M',\n",
       " 'Germany Beiersdorf AG , = reg . tm . of',\n",
       " '89050 . 450 . AD . 05',\n",
       " '5 \" 025970 \" 022574 \" 81224574']"
      ]
     },
     "execution_count": 23,
     "metadata": {},
     "output_type": "execute_result"
    }
   ],
   "source": [
    "test_photos(5)"
   ]
  },
  {
   "cell_type": "markdown",
   "metadata": {},
   "source": [
    "## Ingredients detection \n",
    "- Based on observations above, try to detect the ingredients using keyword search and taking out the block that contains that word.\n",
    "- There will often be other data in the same block and we need to think about how to filter that out. "
   ]
  },
  {
   "cell_type": "code",
   "execution_count": 24,
   "metadata": {},
   "outputs": [],
   "source": [
    "# simplest possible option where we just look for the word 'ingredients'\n",
    "# and retrieve everything after it \n",
    "\n",
    "def find_text_after_word(text, word='ingredients'):\n",
    "    '''\n",
    "    looks for the word 'ingredients' in the \n",
    "    lowercased text and returns all the text \n",
    "    after this word\n",
    "    '''\n",
    "    if word in text.lower():\n",
    "        loc_word = text.lower().find(word)\n",
    "        # adding the +1 as there is often : or space after \n",
    "        # the word 'ingredients'\n",
    "        text_after_word = text[loc_word+len(word)+1:]\n",
    "        # stripping space and : once more just in case\n",
    "        # and '.' at the end as there is often a sent end\n",
    "        return text_after_word.strip().lstrip(':').rstrip('.')\n",
    "    else:\n",
    "        return ''"
   ]
  },
  {
   "cell_type": "code",
   "execution_count": 25,
   "metadata": {},
   "outputs": [
    {
     "name": "stdout",
     "output_type": "stream",
     "text": [
      "including the following:\n",
      "salt and sugar\n",
      " Aqua , Sodium Lauroyl Glyci\n"
     ]
    }
   ],
   "source": [
    "# tests \n",
    "print(find_text_after_word('This contains ingredients including the following:'))\n",
    "print(find_text_after_word('The Ingredients: salt and sugar'))\n",
    "print(find_text_after_word('INGREDIENTS : Aqua , Sodium Lauroyl Glyci'))"
   ]
  },
  {
   "cell_type": "code",
   "execution_count": 26,
   "metadata": {},
   "outputs": [],
   "source": [
    "# attempt to extract a list of the ingredients; simplest possible is separating by comma\n",
    "def split_ingredients(text):\n",
    "    '''\n",
    "    returns a list of space-stripped text separated \n",
    "    by commas from the original text\n",
    "    '''\n",
    "    text_components = text.split(',')\n",
    "    return [component.strip() for component in text_components]"
   ]
  },
  {
   "cell_type": "code",
   "execution_count": 27,
   "metadata": {},
   "outputs": [
    {
     "data": {
      "text/plain": [
       "['suppose it looks like this: water',\n",
       " 'sugar',\n",
       " 'salt',\n",
       " 'additives ( such as E872 which is not a real thing)']"
      ]
     },
     "execution_count": 27,
     "metadata": {},
     "output_type": "execute_result"
    }
   ],
   "source": [
    "split_ingredients('suppose it looks like this: water, sugar , salt , additives ( such as E872 which is not a real thing) ')"
   ]
  },
  {
   "cell_type": "markdown",
   "metadata": {},
   "source": [
    "### very simple ingredients extraction flow: \n",
    "1. Get text in blocks in a list.\n",
    "2. For each element in list list check for 'ingredients'.\n",
    "3. Extract string that contains 'ingredients' if it exists and \n",
    "4. pass it to the splitting function that splits into individual ingredients."
   ]
  },
  {
   "cell_type": "code",
   "execution_count": 28,
   "metadata": {},
   "outputs": [],
   "source": [
    "def extract_ingredients_list(img):\n",
    "    block_texts = detect_block(img)\n",
    "    for block in block_texts:\n",
    "        ingredients = find_text_after_word(block)\n",
    "        if ingredients != '':\n",
    "            individual_ingredients = split_ingredients(ingredients)\n",
    "            return individual_ingredients\n",
    "        else:\n",
    "            pass"
   ]
  },
  {
   "cell_type": "code",
   "execution_count": 29,
   "metadata": {},
   "outputs": [],
   "source": [
    "# test on the partial images i.e. the ingredients list from OFF \n",
    "ingredients_partial = {}\n",
    "for img in os.listdir(os.path.join('test_images', 'partial')):\n",
    "    if img.startswith('test_'):\n",
    "        img_path = os.path.join('test_images', 'partial', img)\n",
    "        ingredients_partial[img] = extract_ingredients_list(img_path)"
   ]
  },
  {
   "cell_type": "code",
   "execution_count": 30,
   "metadata": {},
   "outputs": [
    {
     "data": {
      "text/plain": [
       "['INGREDIENTS : Rice ( 44 % )',\n",
       " 'Wholewheat ( 35 % )',\n",
       " 'Sugar',\n",
       " 'Barley ( 4 . 5 % )',\n",
       " 'Freeze dried fruits ( 4 . 5 % ) ( Strawberry',\n",
       " 'Cherry )',\n",
       " 'Malted barley flour ( 3 . 5 % )',\n",
       " 'Barley malt flavouring',\n",
       " '']"
      ]
     },
     "execution_count": 30,
     "metadata": {},
     "output_type": "execute_result"
    }
   ],
   "source": [
    "# inspect the results \n",
    "ingredients_partial['test_20.jpg']"
   ]
  },
  {
   "cell_type": "code",
   "execution_count": null,
   "metadata": {},
   "outputs": [],
   "source": [
    "# test on the full images i.e. own package photos \n",
    "ingredients_whole = {}\n",
    "for img in os.listdir(os.path.join('test_images', 'whole')):\n",
    "    if img.startswith('test_'):\n",
    "        img_path = os.path.join('test_images', 'whole', img)\n",
    "        ingredients_whole[img] = extract_ingredients_list(img_path)"
   ]
  },
  {
   "cell_type": "code",
   "execution_count": null,
   "metadata": {},
   "outputs": [],
   "source": [
    "ingredients_whole['test_48.jpg']"
   ]
  },
  {
   "cell_type": "code",
   "execution_count": null,
   "metadata": {},
   "outputs": [],
   "source": []
  }
 ],
 "metadata": {
  "kernelspec": {
   "display_name": "Python 3",
   "language": "python",
   "name": "python3"
  },
  "language_info": {
   "codemirror_mode": {
    "name": "ipython",
    "version": 3
   },
   "file_extension": ".py",
   "mimetype": "text/x-python",
   "name": "python",
   "nbconvert_exporter": "python",
   "pygments_lexer": "ipython3",
   "version": "3.6.5"
  }
 },
 "nbformat": 4,
 "nbformat_minor": 2
}
