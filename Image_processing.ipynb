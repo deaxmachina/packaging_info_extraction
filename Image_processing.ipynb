{
 "cells": [
  {
   "cell_type": "markdown",
   "metadata": {},
   "source": [
    "Image preprocessing notebook. Mainly start with just resizing now. "
   ]
  },
  {
   "cell_type": "code",
   "execution_count": 61,
   "metadata": {},
   "outputs": [],
   "source": [
    "import PIL\n",
    "from PIL import Image\n",
    "import cv2\n",
    "import os "
   ]
  },
  {
   "cell_type": "code",
   "execution_count": 63,
   "metadata": {},
   "outputs": [],
   "source": [
    "def resize_image(img, new_max_size=700):\n",
    "    max_size = max(img.size[0], img.size[1])\n",
    "    if max_size==img.size[0]:\n",
    "        width_percent = (new_max_size / float(img.size[0]))\n",
    "        height_size = int((float(img.size[1]) * float(width_percent)))\n",
    "        img = img.resize((new_max_size, height_size), PIL.Image.ANTIALIAS)\n",
    "    if max_size==img.size[1]:\n",
    "        height_percent = (new_max_size / float(img.size[1]))\n",
    "        width_size = int((float(img.size[0]) * float(height_percent)))\n",
    "        img = img.resize((width_size, new_max_size), PIL.Image.ANTIALIAS)\n",
    "    return img"
   ]
  },
  {
   "cell_type": "code",
   "execution_count": 64,
   "metadata": {},
   "outputs": [],
   "source": [
    "raw_images_dir = './images/packaging/'\n",
    "resized_images_dir = './images/packaging_resized/'\n",
    "for file in os.listdir(raw_images_dir):\n",
    "    if file.endswith('.jpg'):\n",
    "        file_path = os.path.join(raw_images_dir, file)\n",
    "        img = Image.open(file_path)\n",
    "        img_resized = resize_image(img)\n",
    "        img_resized.save(os.path.join(resized_images_dir, file), quality=90)"
   ]
  },
  {
   "cell_type": "code",
   "execution_count": null,
   "metadata": {},
   "outputs": [],
   "source": []
  }
 ],
 "metadata": {
  "kernelspec": {
   "display_name": "Python 3",
   "language": "python",
   "name": "python3"
  },
  "language_info": {
   "codemirror_mode": {
    "name": "ipython",
    "version": 3
   },
   "file_extension": ".py",
   "mimetype": "text/x-python",
   "name": "python",
   "nbconvert_exporter": "python",
   "pygments_lexer": "ipython3",
   "version": "3.6.5"
  }
 },
 "nbformat": 4,
 "nbformat_minor": 2
}
